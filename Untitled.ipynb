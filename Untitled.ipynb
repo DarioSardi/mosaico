{
 "cells": [
  {
   "cell_type": "markdown",
   "id": "9a909edb-8337-456c-8597-fc168000159e",
   "metadata": {},
   "source": [
    "# ODLR PARSER"
   ]
  },
  {
   "cell_type": "code",
   "execution_count": 4,
   "id": "c66947ae-1648-439b-b95f-545930c1c31d",
   "metadata": {},
   "outputs": [],
   "source": [
    "import sys\n",
    "try:\n",
    "    import pycali\n",
    "except:\n",
    "    !{sys.executable} -m pip install pycali\n",
    "    "
   ]
  },
  {
   "cell_type": "markdown",
   "id": "d61b2515-d591-41e1-88db-0785c78c23d5",
   "metadata": {},
   "source": [
    "Rules consists of four components:\n",
    "- assignee: the subject that makes the request;\n",
    "- target: the dataset on which the subject wants to perform operation;\n",
    "- action: the category the operation requested falls in;\n",
    "- purpose: the reason for which the dataset is being requested (a different definition with respect to ODRL vocabolary, see MOSAICrOWN vocabolary).\n"
   ]
  },
  {
   "cell_type": "code",
   "execution_count": 10,
   "id": "2a0ca260-8620-4b51-823c-de0c0ba55a6f",
   "metadata": {},
   "outputs": [
    {
     "name": "stdout",
     "output_type": "stream",
     "text": [
      "@prefix owl:   <http://www.w3.org/2002/07/owl#> .\n",
      "@prefix rdf:   <http://www.w3.org/1999/02/22-rdf-syntax-ns#> .\n",
      "@prefix rdfs:  <http://www.w3.org/2000/01/rdf-schema#> .\n",
      "@prefix odrl:  <http://www.w3.org/ns/odrl/2/> .\n",
      "@prefix cali:  <http://cali.priloo.univ-nantes.fr/ontology#> .\n",
      "\n",
      "cali:Undefined  a  cali:Status  ;\n",
      "          rdfs:label        \"Undefined status\" ;\n",
      "          rdfs:comment      \"Stating that an action is in an Undefined state\" ;\n",
      "          cali:lessRestrictiveThan      odrl:Permission .\n",
      "\n",
      "odrl:Permission  a  cali:Status  ;\n",
      "          rdfs:label        \"Permission\" ;\n",
      "          rdfs:comment      \"The ability to perform an Action over an Asset.\" ;\n",
      "          cali:lessRestrictiveThan      odrl:Prohibition .\n",
      "\n",
      "odrl:Prohibition  a  cali:Status  ;\n",
      "          rdfs:label        \"Prohibition\" ;\n",
      "          rdfs:comment      \"The inability to perform an Action over an Asset.\" ;\n",
      "          cali:lessRestrictiveThan      odrl:Duty .\n",
      "\n",
      "odrl:Duty  a  cali:Status  ;\n",
      "          rdfs:label        \"Duty\" ;\n",
      "          rdfs:comment      \"The obligation to perform an Action\" .\n"
     ]
    }
   ],
   "source": [
    "from pycali.vocabulary import ODRLVocabulary\n",
    "odrl = ODRLVocabulary()\n",
    "# access the list of actions\n",
    "from rdflib import Graph\n",
    "from pycali.restrictiveness_lattice_of_status import RestrictivenessLatticeOfStatus\n",
    "from pycali.examples.restrictiveness_lattice_of_status.DL1 import dl1_rdf\n",
    "\n",
    "# Load the LS in the examples \n",
    "# Turtle format (ttl) contains tuple infos\n",
    "print(dl1_rdf)\n",
    "DL1 = RestrictivenessLatticeOfStatus(Graph().parse(data=dl1_rdf, format='ttl'))"
   ]
  }
 ],
 "metadata": {
  "kernelspec": {
   "display_name": "Python 3 (ipykernel)",
   "language": "python",
   "name": "python3"
  },
  "language_info": {
   "codemirror_mode": {
    "name": "ipython",
    "version": 3
   },
   "file_extension": ".py",
   "mimetype": "text/x-python",
   "name": "python",
   "nbconvert_exporter": "python",
   "pygments_lexer": "ipython3",
   "version": "3.9.5"
  }
 },
 "nbformat": 4,
 "nbformat_minor": 5
}
