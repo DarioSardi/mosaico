{
 "cells": [
  {
   "cell_type": "markdown",
   "id": "9a909edb-8337-456c-8597-fc168000159e",
   "metadata": {},
   "source": [
    "# ODLR PARSER"
   ]
  },
  {
   "cell_type": "code",
   "execution_count": 2,
   "id": "c66947ae-1648-439b-b95f-545930c1c31d",
   "metadata": {},
   "outputs": [],
   "source": [
    "import sys\n",
    "try:\n",
    "    import pycali\n",
    "except:\n",
    "    !{sys.executable} -m pip install pycali\n",
    "try:\n",
    "    import rdflib\n",
    "except:\n",
    "    !{sys.executable} -m pip install rdflib\n",
    "    "
   ]
  },
  {
   "cell_type": "markdown",
   "id": "d61b2515-d591-41e1-88db-0785c78c23d5",
   "metadata": {},
   "source": [
    "Rules consists of four components:\n",
    "- assignee: the subject that makes the request;\n",
    "- target: the dataset on which the subject wants to perform operation;\n",
    "- action: the category the operation requested falls in;\n",
    "- purpose: the reason for which the dataset is being requested (a different definition with respect to ODRL vocabolary, see MOSAICrOWN vocabolary).\n"
   ]
  },
  {
   "cell_type": "code",
   "execution_count": 26,
   "id": "63ceff3d-c195-4705-a2b5-2983af4b9106",
   "metadata": {},
   "outputs": [],
   "source": [
    "ODLRTestData='''\n",
    "[{\n",
    "  \"@type\": \"Agreement\",\n",
    "  \"uid\": \"mosaico.database.windows.net/Test:policy:1\",\n",
    "  \"permission\": [{\n",
    "      \"target\": \"mosaico.database.windows.net/Test:STUDENTI\",\n",
    "      \"assignee\": \"mosaico.database.windows.net/Test:user:Tester\",\n",
    "      \"action\": \"read\"\n",
    "  }]\n",
    "  },\n",
    "  {\n",
    "  \"@type\": \"Agreement\",\n",
    "  \"uid\": \"mosaico.database.windows.net/Test:policy:2\",\n",
    "  \"permission\": [\n",
    "    {\n",
    "      \"target\": \"mosaico.database.windows.net/Test:DOCENTI:NOME\",\n",
    "      \"assignee\": \"mosaico.database.windows.net/Test:user:Tester\",\n",
    "      \"action\": \"read\"\n",
    "    }\n",
    "  ]\n",
    "}]\n",
    "'''"
   ]
  },
  {
   "cell_type": "code",
   "execution_count": null,
   "id": "da6ba74c-7005-42d4-9c71-872fef993429",
   "metadata": {},
   "outputs": [],
   "source": []
  },
  {
   "cell_type": "code",
   "execution_count": 32,
   "id": "2a0ca260-8620-4b51-823c-de0c0ba55a6f",
   "metadata": {},
   "outputs": [
    {
     "ename": "NameError",
     "evalue": "name 'ODRL' is not defined",
     "output_type": "error",
     "traceback": [
      "\u001b[0;31m---------------------------------------------------------------------------\u001b[0m",
      "\u001b[0;31mNameError\u001b[0m                                 Traceback (most recent call last)",
      "\u001b[0;32m/tmp/ipykernel_4213/859202001.py\u001b[0m in \u001b[0;36m<module>\u001b[0;34m\u001b[0m\n\u001b[1;32m     11\u001b[0m \u001b[0;31m# Turtle format (ttl) contains tuple infos\u001b[0m\u001b[0;34m\u001b[0m\u001b[0;34m\u001b[0m\u001b[0;34m\u001b[0m\u001b[0m\n\u001b[1;32m     12\u001b[0m \u001b[0mgraph\u001b[0m\u001b[0;34m=\u001b[0m \u001b[0mGraph\u001b[0m\u001b[0;34m(\u001b[0m\u001b[0;34m)\u001b[0m\u001b[0;34m.\u001b[0m\u001b[0mparse\u001b[0m\u001b[0;34m(\u001b[0m\u001b[0mdata\u001b[0m\u001b[0;34m=\u001b[0m\u001b[0mODLRTestData\u001b[0m\u001b[0;34m,\u001b[0m\u001b[0mformat\u001b[0m\u001b[0;34m=\u001b[0m\u001b[0;34m'json-ld'\u001b[0m\u001b[0;34m)\u001b[0m\u001b[0;34m\u001b[0m\u001b[0;34m\u001b[0m\u001b[0m\n\u001b[0;32m---> 13\u001b[0;31m \u001b[0;32mfor\u001b[0m \u001b[0md1\u001b[0m\u001b[0;34m,\u001b[0m\u001b[0md2\u001b[0m\u001b[0;34m,\u001b[0m\u001b[0md3\u001b[0m \u001b[0;32min\u001b[0m \u001b[0mgraph\u001b[0m\u001b[0;34m.\u001b[0m\u001b[0mtriples\u001b[0m\u001b[0;34m(\u001b[0m\u001b[0;34m(\u001b[0m\u001b[0;32mNone\u001b[0m\u001b[0;34m,\u001b[0m \u001b[0mODRL\u001b[0m\u001b[0;34m.\u001b[0m\u001b[0mtype\u001b[0m\u001b[0;34m,\u001b[0m \u001b[0mODRL\u001b[0m\u001b[0;34m.\u001b[0m\u001b[0muid\u001b[0m\u001b[0;34m)\u001b[0m\u001b[0;34m)\u001b[0m\u001b[0;34m:\u001b[0m\u001b[0;34m\u001b[0m\u001b[0;34m\u001b[0m\u001b[0m\n\u001b[0m\u001b[1;32m     14\u001b[0m     \u001b[0mprint\u001b[0m\u001b[0;34m(\u001b[0m\u001b[0md3\u001b[0m\u001b[0;34m)\u001b[0m\u001b[0;34m\u001b[0m\u001b[0;34m\u001b[0m\u001b[0m\n\u001b[1;32m     15\u001b[0m \u001b[0;31m# print(graph.serialize(format=\"turtle\"))\u001b[0m\u001b[0;34m\u001b[0m\u001b[0;34m\u001b[0m\u001b[0;34m\u001b[0m\u001b[0m\n",
      "\u001b[0;31mNameError\u001b[0m: name 'ODRL' is not defined"
     ]
    }
   ],
   "source": [
    "from pycali.vocabulary import ODRLVocabulary\n",
    "from rdflib.namespace import RDF,FOAF\n",
    "\n",
    "odrl = ODRLVocabulary()\n",
    "# access the list of actions\n",
    "from rdflib import Graph\n",
    "from pycali.restrictiveness_lattice_of_status import RestrictivenessLatticeOfStatus\n",
    "from pycali.examples.restrictiveness_lattice_of_status.DL1 import dl1_rdf\n",
    "\n",
    "# Load the LS in the examples \n",
    "# Turtle format (ttl) contains tuple infos\n",
    "graph= Graph().parse(data=ODLRTestData,format='json-ld')\n",
    "for d1,d2,d3 in graph.triples((None, odlr.type, ODRL.uid)):\n",
    "    print(d3)\n",
    "# print(graph.serialize(format=\"turtle\"))\n",
    "    "
   ]
  },
  {
   "cell_type": "code",
   "execution_count": null,
   "id": "37ed5070-9f5c-4358-88aa-9e31a4a28c45",
   "metadata": {},
   "outputs": [],
   "source": []
  },
  {
   "cell_type": "code",
   "execution_count": null,
   "id": "2493a7a8-229c-481a-9b37-f84107e4a90b",
   "metadata": {},
   "outputs": [],
   "source": []
  }
 ],
 "metadata": {
  "kernelspec": {
   "display_name": "Python 3 (ipykernel)",
   "language": "python",
   "name": "python3"
  },
  "language_info": {
   "codemirror_mode": {
    "name": "ipython",
    "version": 3
   },
   "file_extension": ".py",
   "mimetype": "text/x-python",
   "name": "python",
   "nbconvert_exporter": "python",
   "pygments_lexer": "ipython3",
   "version": "3.9.5"
  }
 },
 "nbformat": 4,
 "nbformat_minor": 5
}
