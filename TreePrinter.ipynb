{
 "cells": [
  {
   "cell_type": "code",
   "execution_count": 14,
   "metadata": {},
   "outputs": [],
   "source": [
    "import sys\n",
    "try:\n",
    "    from termcolor import colored\n",
    "except ImportError as e:\n",
    "    !{sys.executable} -m pip install termcolor\n",
    "    from termcolor import colored"
   ]
  },
  {
   "cell_type": "markdown",
   "metadata": {},
   "source": [
    "# node printer\n",
    "read db and generate a chain of Node obj printable as tree"
   ]
  },
  {
   "cell_type": "code",
   "execution_count": 15,
   "metadata": {},
   "outputs": [],
   "source": [
    "class Node():\n",
    "    def __init__(self, data,_type=None):\n",
    "        self.data = data\n",
    "        self.children = []\n",
    "        self.type=_type\n",
    "        self.childrenNumber=0\n",
    "        self.auth=False\n",
    "        self.parent= self\n",
    "        \n",
    "    def setAuth(self,auth):\n",
    "        self.auth=auth\n",
    "    \n",
    "    def setHierarchicalAuth(self,auth):\n",
    "        self.auth=auth\n",
    "        for c in self.children:\n",
    "            c.setHierarchicalAuth(auth)\n",
    "    \n",
    "    def add_child(self, obj):\n",
    "        if type(obj)==list:\n",
    "            for o in obj:\n",
    "                if o not in self.children:\n",
    "                    #IF SELF.auth==False o.auth=False\n",
    "                    o.parent=self\n",
    "                    self.children.append(o)\n",
    "                    self.childrenNumber+=0\n",
    "        else:\n",
    "            if obj not in self.children:\n",
    "                obj.parent=self\n",
    "                self.children.append(obj)\n",
    "    \n",
    "    def get_children(self):\n",
    "        return self.children\n",
    "    \n",
    "    def get_child(self,data):\n",
    "        for ch in self.children:\n",
    "                if ch.data==data:\n",
    "                    return ch\n",
    "\n",
    "    def has_child(self,search):\n",
    "        for ch in self.children:\n",
    "            if ch.data==search:\n",
    "                return True\n",
    "        return False\n",
    "    \n",
    "    def print_child(self):\n",
    "        sys.stdout.write(\"[\")\n",
    "        for c in self.children:\n",
    "            print('{0},'.format(c.data),end='')\n",
    "        sys.stdout.write(\"\\b]\")\n",
    "\n"
   ]
  },
  {
   "cell_type": "markdown",
   "metadata": {},
   "source": [
    "root = Node('ROOT')\n",
    "l11=Node('11')\n",
    "l12=Node('12')\n",
    "l13=Node('13')\n",
    "\n",
    "l21=Node('21')\n",
    "l22=Node('22')\n",
    "l23=Node('23')\n",
    "\n",
    "l24=Node('24')\n",
    "l25=Node('25')\n",
    "l26=Node('26')\n",
    "\n",
    "l27=Node('27')\n",
    "l28=Node('28')\n",
    "l29=Node('29')\n",
    "\n",
    "l31=Node(\"31\")\n",
    "l32=Node(\"32\")\n",
    "\n",
    "l11.add_child([l21,l22,l23])\n",
    "l12.add_child([l24,l25,l26])\n",
    "l29.add_child([l31,l32])\n",
    "l13.add_child([l27,l28,l29])\n",
    "root.add_child([l11,l12,l13])\n"
   ]
  },
  {
   "cell_type": "markdown",
   "metadata": {},
   "source": [
    "## pretty print tree\n",
    "creds to [Vallentin](https://vallentin.dev/2016/11/29/pretty-print-tree)"
   ]
  },
  {
   "cell_type": "code",
   "execution_count": 17,
   "metadata": {},
   "outputs": [],
   "source": [
    "def pprint_tree(node, file=None, _prefix=\"\", _last=True):\n",
    "    print(_prefix, \"`- \" if _last else \"|- \", colored(node.data,'green') if node.auth else colored( node.data,'red') , sep=\"\", file=file)\n",
    "    _prefix += \"   \" if _last else \"|  \"\n",
    "    child_count = len(node.children)\n",
    "    for i, child in enumerate(node.children):\n",
    "        _last = i == (child_count - 1)\n",
    "        pprint_tree(child, file, _prefix, _last)"
   ]
  },
  {
   "cell_type": "code",
   "execution_count": 18,
   "metadata": {},
   "outputs": [],
   "source": [
    "#pprint_tree(root)"
   ]
  },
  {
   "cell_type": "markdown",
   "metadata": {},
   "source": [
    "## Tree searcher\n",
    "leve lorder Traversal algorithm, if i need to edit one single node.<br>\n",
    "Problems:\n",
    "-   nodes with same data in different path will cause an error."
   ]
  },
  {
   "cell_type": "code",
   "execution_count": 19,
   "metadata": {},
   "outputs": [],
   "source": [
    "def llt(root,searchKey):\n",
    "    queue = []\n",
    "    queue.append(root);\n",
    "    while len(queue)>0:\n",
    "        node = queue.pop()\n",
    "        print(node.data + \" \")\n",
    "        if node.data==searchKey:\n",
    "            #do stuff\n",
    "            return\n",
    "        if node.children:\n",
    "            for c in node.children:\n",
    "                queue.append(c)"
   ]
  },
  {
   "cell_type": "code",
   "execution_count": 20,
   "metadata": {},
   "outputs": [],
   "source": [
    "#llt(root,\"Cognome\")"
   ]
  }
 ],
 "metadata": {
  "kernelspec": {
   "display_name": "Python 3 (ipykernel)",
   "language": "python",
   "name": "python3"
  },
  "language_info": {
   "codemirror_mode": {
    "name": "ipython",
    "version": 3
   },
   "file_extension": ".py",
   "mimetype": "text/x-python",
   "name": "python",
   "nbconvert_exporter": "python",
   "pygments_lexer": "ipython3",
   "version": "3.8.5"
  }
 },
 "nbformat": 4,
 "nbformat_minor": 4
}
