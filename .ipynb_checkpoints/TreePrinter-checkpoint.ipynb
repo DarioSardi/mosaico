{
 "cells": [
  {
   "cell_type": "code",
   "execution_count": 7,
   "metadata": {},
   "outputs": [
    {
     "name": "stdout",
     "output_type": "stream",
     "text": [
      "Collecting termcolor\n",
      "  Using cached termcolor-1.1.0.tar.gz (3.9 kB)\n",
      "Building wheels for collected packages: termcolor\n",
      "  Building wheel for termcolor (setup.py) ... \u001b[?25ldone\n",
      "\u001b[?25h  Created wheel for termcolor: filename=termcolor-1.1.0-py3-none-any.whl size=4830 sha256=72fce617453035b78a72099a171dc8c07a175e09e44c36d90a41bb29160260f9\n",
      "  Stored in directory: /home/mosaico/.cache/pip/wheels/b6/0d/90/0d1bbd99855f99cb2f6c2e5ff96f8023fad8ec367695f7d72d\n",
      "Successfully built termcolor\n",
      "Installing collected packages: termcolor\n",
      "Successfully installed termcolor-1.1.0\n"
     ]
    }
   ],
   "source": [
    "import sys\n",
    "try:\n",
    "    from termcolor import colored\n",
    "except ImportError as e:\n",
    "    !{sys.executable} -m pip install termcolor\n",
    "    from termcolor import colored"
   ]
  },
  {
   "cell_type": "markdown",
   "metadata": {},
   "source": [
    "# node printer\n",
    "read db and generate a chain of Node obj printable as tree"
   ]
  },
  {
   "cell_type": "code",
   "execution_count": 2,
   "metadata": {},
   "outputs": [],
   "source": [
    "class Node():\n",
    "    def __init__(self, data,_type=None):\n",
    "        self.data = data\n",
    "        self.children = []\n",
    "        self.type=_type\n",
    "        self.childrenNumber=0\n",
    "        self.auth=True\n",
    "        self.parent= self\n",
    "        \n",
    "    def setAuth(self,auth):\n",
    "        self.auth=auth\n",
    "    \n",
    "    def setHierarchicalAuth(sefl,auth):\n",
    "        self.auth=auth\n",
    "        for c in self.children:\n",
    "            c.setHierarchicalAuth(auth)\n",
    "    \n",
    "    def add_child(self, obj):\n",
    "        if type(obj)==list:\n",
    "            for o in obj:\n",
    "                if o not in self.children:\n",
    "                    #IF SELF.auth==False o.auth=False\n",
    "                    o.parent=self\n",
    "                    self.children.append(o)\n",
    "                    self.childrenNumber+=0\n",
    "        else:\n",
    "            if obj not in self.children:\n",
    "                obj.parent=self\n",
    "                self.children.append(obj)\n",
    "    \n",
    "    def get_child(self):\n",
    "        return self.children\n",
    "    \n",
    "    def print_child(self):\n",
    "        sys.stdout.write(\"[\")\n",
    "        for c in self.children:\n",
    "            print('{0},'.format(c.data),end='')\n",
    "        sys.stdout.write(\"\\b]\")\n",
    "\n"
   ]
  },
  {
   "cell_type": "code",
   "execution_count": 4,
   "metadata": {},
   "outputs": [],
   "source": [
    "root = Node('UNIBG','db')\n",
    "\n",
    "table1=Node('Studenti','table')\n",
    "\n",
    "leaf11=Node('Nome','data_type')\n",
    "leaf12=Node('Cognome','data_type')\n",
    "leaf13=Node('CF','data_type')\n",
    "leaf14=Node('IBAN','data_type')\n",
    "leaf14.setAuth(False)\n",
    "table1.add_child([leaf11,leaf12,leaf13,leaf14])\n",
    "\n",
    "table2=Node('Docenti','table')\n",
    "\n",
    "leaf21=Node('Nome','data_type')\n",
    "leaf22=Node('Cognome','data_type')\n",
    "leaf22.setAuth(False)\n",
    "table2.add_child([leaf21,leaf22])\n",
    "\n",
    "root.add_child([table1,table2])"
   ]
  },
  {
   "cell_type": "markdown",
   "metadata": {},
   "source": [
    "## pretty print tree\n",
    "creds to [Vallentin](https://vallentin.dev/2016/11/29/pretty-print-tree)"
   ]
  },
  {
   "cell_type": "code",
   "execution_count": 5,
   "metadata": {},
   "outputs": [],
   "source": [
    "def pprint_tree(node, file=None, _prefix=\"\", _last=True):\n",
    "    print(_prefix, \"`- \" if _last else \"|- \", colored(node.data,'green') if node.auth else colored( node.data,'red') , sep=\"\", file=file)\n",
    "    _prefix += \"   \" if _last else \"|  \"\n",
    "    child_count = len(node.children)\n",
    "    for i, child in enumerate(node.children):\n",
    "        _last = i == (child_count - 1)\n",
    "        pprint_tree(child, file, _prefix, _last)"
   ]
  },
  {
   "cell_type": "code",
   "execution_count": 8,
   "metadata": {},
   "outputs": [
    {
     "name": "stdout",
     "output_type": "stream",
     "text": [
      "`- \u001b[32mUNIBG\u001b[0m\n",
      "   |- \u001b[32mStudenti\u001b[0m\n",
      "   |  |- \u001b[32mNome\u001b[0m\n",
      "   |  |- \u001b[32mCognome\u001b[0m\n",
      "   |  |- \u001b[32mCF\u001b[0m\n",
      "   |  `- \u001b[31mIBAN\u001b[0m\n",
      "   `- \u001b[32mDocenti\u001b[0m\n",
      "      |- \u001b[32mNome\u001b[0m\n",
      "      `- \u001b[31mCognome\u001b[0m\n"
     ]
    }
   ],
   "source": [
    "pprint_tree(root)"
   ]
  },
  {
   "cell_type": "markdown",
   "metadata": {},
   "source": [
    "## Tree searcher\n",
    "leve lorder Traversal algorithm"
   ]
  },
  {
   "cell_type": "code",
   "execution_count": 46,
   "metadata": {},
   "outputs": [],
   "source": [
    "def llt(root,searchKey):\n",
    "    queue = []\n",
    "    queue.append(root);\n",
    "    while len(queue)>0:\n",
    "        node = queue.pop()\n",
    "        print(node.data + \" \")\n",
    "        if node.data==searchKey:\n",
    "            #do stuff\n",
    "            return\n",
    "        if node.children:\n",
    "            for c in node.children:\n",
    "                queue.append(c)"
   ]
  },
  {
   "cell_type": "code",
   "execution_count": 47,
   "metadata": {},
   "outputs": [
    {
     "name": "stdout",
     "output_type": "stream",
     "text": [
      "UNIBG \n",
      "Docenti \n",
      "Cognome \n"
     ]
    }
   ],
   "source": [
    "llt(root,\"Cognome\")"
   ]
  }
 ],
 "metadata": {
  "kernelspec": {
   "display_name": "Python 3 (ipykernel)",
   "language": "python",
   "name": "python3"
  },
  "language_info": {
   "codemirror_mode": {
    "name": "ipython",
    "version": 3
   },
   "file_extension": ".py",
   "mimetype": "text/x-python",
   "name": "python",
   "nbconvert_exporter": "python",
   "pygments_lexer": "ipython3",
   "version": "3.9.5"
  }
 },
 "nbformat": 4,
 "nbformat_minor": 4
}
