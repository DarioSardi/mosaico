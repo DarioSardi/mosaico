{
 "cells": [
  {
   "cell_type": "code",
   "execution_count": 1,
   "metadata": {},
   "outputs": [],
   "source": [
    "%run TreePrinter.ipynb"
   ]
  },
  {
   "cell_type": "code",
   "execution_count": 2,
   "metadata": {},
   "outputs": [],
   "source": [
    "import findspark\n",
    "findspark.init('/usr/local/spark')"
   ]
  },
  {
   "cell_type": "code",
   "execution_count": 3,
   "metadata": {},
   "outputs": [],
   "source": [
    "import pyspark,pyodbc"
   ]
  },
  {
   "cell_type": "code",
   "execution_count": 4,
   "metadata": {},
   "outputs": [],
   "source": [
    "from pyspark import SparkContext, SparkConf, SQLContext\n",
    "import _mssql\n",
    "import pandas as pd"
   ]
  },
  {
   "cell_type": "code",
   "execution_count": 5,
   "metadata": {},
   "outputs": [],
   "source": [
    "master=\"local\"\n",
    "conf = SparkConf() \\\n",
    "    .setAppName(\"pysparkToAzure\") \\\n",
    "    .setMaster(master) \\\n",
    "    .set(\"spark.driver.extraClassPath\",\"/home/mosaico/Documents/mosaico/sqljdbc_8.2/mssql-jdbc-8.2.0.jre11.jar\")\\\n",
    "    .set(\"spark.executor.extraClassPath\",\"/home/mosaico/Documents/mosaico/sqljdbc_8.2/mssql-jdbc-8.2.0.jre11.jar\")\n",
    "sc=pyspark.SparkContext(conf=conf)"
   ]
  },
  {
   "cell_type": "markdown",
   "metadata": {},
   "source": [
    "sc.stop()"
   ]
  },
  {
   "cell_type": "code",
   "execution_count": 6,
   "metadata": {},
   "outputs": [
    {
     "data": {
      "text/plain": [
       "'pysparkToAzure'"
      ]
     },
     "execution_count": 6,
     "metadata": {},
     "output_type": "execute_result"
    }
   ],
   "source": [
    "sc.appName"
   ]
  },
  {
   "cell_type": "code",
   "execution_count": 7,
   "metadata": {},
   "outputs": [],
   "source": [
    "sqlContext = SQLContext(sc)\n",
    "spark = sqlContext.sparkSession"
   ]
  },
  {
   "cell_type": "code",
   "execution_count": 8,
   "metadata": {},
   "outputs": [],
   "source": [
    "database = \"Test\"\n",
    "ser=\"mosaico.database.windows.net,1433\"\n",
    "table = \"dbo.DOCENTI\"\n",
    "user = \"PanDario\"\n",
    "password = \"Mosaico2020\"\n"
   ]
  },
  {
   "cell_type": "code",
   "execution_count": 9,
   "metadata": {},
   "outputs": [],
   "source": [
    "conn = pyodbc.connect(f'DRIVER={{ODBC Driver 17 for SQL Server}};SERVER={ser};DATABASE={database};UID={user};PWD={password}')"
   ]
  },
  {
   "cell_type": "code",
   "execution_count": 10,
   "metadata": {},
   "outputs": [],
   "source": [
    "def listTables(res:pd.core.frame.DataFrame):\n",
    "    obj=res['TABLE_NAME']\n",
    "    list=[]\n",
    "    for x in obj:\n",
    "        list.append(x)\n",
    "    return list\n",
    "def listCols(res:pd.core.frame.DataFrame):\n",
    "    obj=res.columns\n",
    "    list=[]\n",
    "    for c in obj:\n",
    "        list.append(c)\n",
    "    return list"
   ]
  },
  {
   "cell_type": "markdown",
   "metadata": {},
   "source": [
    "QUERY DI TEST"
   ]
  },
  {
   "cell_type": "code",
   "execution_count": 16,
   "metadata": {},
   "outputs": [
    {
     "name": "stdout",
     "output_type": "stream",
     "text": [
      "`- \u001b[32mTest\u001b[0m\n",
      "   |- \u001b[32mSTUDENTI\u001b[0m\n",
      "   |  |- \u001b[32mNOME\u001b[0m\n",
      "   |  |- \u001b[32mCOGNOME\u001b[0m\n",
      "   |  |- \u001b[32mCF\u001b[0m\n",
      "   |  `- \u001b[32mIBAN\u001b[0m\n",
      "   `- \u001b[32mPROFESSORI\u001b[0m\n",
      "      |- \u001b[32mNOME\u001b[0m\n",
      "      `- \u001b[32mCOGNOME\u001b[0m\n"
     ]
    }
   ],
   "source": [
    "query=\"SELECT * FROM  INFORMATION_SCHEMA.TABLES WHERE TABLE_TYPE='BASE TABLE'\"\n",
    "res=pd.read_sql(query, conn)\n",
    "tablesName=listTables(res)\n",
    "tables=[]\n",
    "root=Node(\"Test\",'DB')\n",
    "for t in tablesName:\n",
    "    tables.append(Node(t,'table'))\n",
    "root.add_child(tables)\n",
    "for t in tables:\n",
    "    query=\"SELECT * FROM  {0} \".format(t.data)\n",
    "    res=pd.read_sql(query, conn)\n",
    "    leafs=listCols(res)\n",
    "    for l in leafs:\n",
    "        n=Node(l,'column')\n",
    "        t.add_child(n)\n",
    "\n",
    "pprint_tree(root)"
   ]
  },
  {
   "cell_type": "markdown",
   "metadata": {},
   "source": [
    "### TEST DATAFRAME"
   ]
  },
  {
   "cell_type": "code",
   "execution_count": 11,
   "metadata": {},
   "outputs": [],
   "source": [
    "sparkDF =  spark.createDataFrame(res)"
   ]
  },
  {
   "cell_type": "code",
   "execution_count": 15,
   "metadata": {},
   "outputs": [
    {
     "data": {
      "text/plain": [
       "DataFrame[TABLE_CATALOG: string, TABLE_SCHEMA: string, TABLE_NAME: string, TABLE_TYPE: string]"
      ]
     },
     "execution_count": 15,
     "metadata": {},
     "output_type": "execute_result"
    }
   ],
   "source": [
    "sparkDF"
   ]
  },
  {
   "cell_type": "code",
   "execution_count": null,
   "metadata": {},
   "outputs": [],
   "source": []
  },
  {
   "cell_type": "code",
   "execution_count": null,
   "metadata": {},
   "outputs": [],
   "source": []
  }
 ],
 "metadata": {
  "kernelspec": {
   "display_name": "Python 3",
   "language": "python",
   "name": "python3"
  },
  "language_info": {
   "codemirror_mode": {
    "name": "ipython",
    "version": 3
   },
   "file_extension": ".py",
   "mimetype": "text/x-python",
   "name": "python",
   "nbconvert_exporter": "python",
   "pygments_lexer": "ipython3",
   "version": "3.6.9"
  }
 },
 "nbformat": 4,
 "nbformat_minor": 4
}
