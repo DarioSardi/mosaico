{
 "cells": [
  {
   "cell_type": "code",
   "execution_count": 3,
   "metadata": {},
   "outputs": [],
   "source": [
    "%run TreePrinter.ipynb"
   ]
  },
  {
   "cell_type": "code",
   "execution_count": 4,
   "metadata": {},
   "outputs": [],
   "source": [
    "import findspark\n",
    "findspark.init('/usr/local/spark')"
   ]
  },
  {
   "cell_type": "code",
   "execution_count": 5,
   "metadata": {},
   "outputs": [],
   "source": [
    "import pyspark,pyodbc"
   ]
  },
  {
   "cell_type": "code",
   "execution_count": 6,
   "metadata": {},
   "outputs": [],
   "source": [
    "from pyspark import SparkContext, SparkConf, SQLContext\n",
    "import _mssql\n",
    "import pandas as pd"
   ]
  },
  {
   "cell_type": "code",
   "execution_count": 7,
   "metadata": {},
   "outputs": [],
   "source": [
    "master=\"local\"\n",
    "conf = SparkConf() \\\n",
    "    .setAppName(\"pysparkToAzure\") \\\n",
    "    .setMaster(master) \\\n",
    "    .set(\"spark.driver.extraClassPath\",\"/home/mosaico/Documents/mosaico/sqljdbc_8.2/mssql-jdbc-8.2.0.jre11.jar\")\\\n",
    "    .set(\"spark.executor.extraClassPath\",\"/home/mosaico/Documents/mosaico/sqljdbc_8.2/mssql-jdbc-8.2.0.jre11.jar\")\n",
    "sc=pyspark.SparkContext(conf=conf)"
   ]
  },
  {
   "cell_type": "markdown",
   "metadata": {},
   "source": [
    "sc.stop()"
   ]
  },
  {
   "cell_type": "code",
   "execution_count": 8,
   "metadata": {},
   "outputs": [
    {
     "data": {
      "text/plain": [
       "'pysparkToAzure'"
      ]
     },
     "execution_count": 8,
     "metadata": {},
     "output_type": "execute_result"
    }
   ],
   "source": [
    "sc.appName"
   ]
  },
  {
   "cell_type": "code",
   "execution_count": 9,
   "metadata": {},
   "outputs": [],
   "source": [
    "sqlContext = SQLContext(sc)\n",
    "spark = sqlContext.sparkSession"
   ]
  },
  {
   "cell_type": "code",
   "execution_count": 10,
   "metadata": {},
   "outputs": [],
   "source": [
    "database = \"Test\"\n",
    "ser=\"mosaico.database.windows.net,1433\"\n",
    "table = \"dbo.DOCENTI\"\n",
    "user = \"PanDario\"\n",
    "password = \"Mosaico2020\"\n"
   ]
  },
  {
   "cell_type": "code",
   "execution_count": 11,
   "metadata": {},
   "outputs": [
    {
     "ename": "InterfaceError",
     "evalue": "('28000', \"[28000] [Microsoft][ODBC Driver 17 for SQL Server][SQL Server]Login failed for user 'PanDario'. (18456) (SQLDriverConnect)\")",
     "output_type": "error",
     "traceback": [
      "\u001b[0;31m---------------------------------------------------------------------------\u001b[0m",
      "\u001b[0;31mInterfaceError\u001b[0m                            Traceback (most recent call last)",
      "\u001b[0;32m<ipython-input-11-ae200f6a5869>\u001b[0m in \u001b[0;36m<module>\u001b[0;34m\u001b[0m\n\u001b[0;32m----> 1\u001b[0;31m \u001b[0mconn\u001b[0m \u001b[0;34m=\u001b[0m \u001b[0mpyodbc\u001b[0m\u001b[0;34m.\u001b[0m\u001b[0mconnect\u001b[0m\u001b[0;34m(\u001b[0m\u001b[0;34mf'DRIVER={{ODBC Driver 17 for SQL Server}};SERVER={ser};DATABASE={database};UID={user};PWD={password}'\u001b[0m\u001b[0;34m)\u001b[0m\u001b[0;34m\u001b[0m\u001b[0;34m\u001b[0m\u001b[0m\n\u001b[0m",
      "\u001b[0;31mInterfaceError\u001b[0m: ('28000', \"[28000] [Microsoft][ODBC Driver 17 for SQL Server][SQL Server]Login failed for user 'PanDario'. (18456) (SQLDriverConnect)\")"
     ]
    }
   ],
   "source": [
    "conn = pyodbc.connect(f'DRIVER={{ODBC Driver 17 for SQL Server}};SERVER={ser};DATABASE={database};UID={user};PWD={password}')"
   ]
  },
  {
   "cell_type": "code",
   "execution_count": null,
   "metadata": {},
   "outputs": [],
   "source": [
    "def listTables(res:pd.core.frame.DataFrame):\n",
    "    obj=res['TABLE_NAME']\n",
    "    list=[]\n",
    "    for x in obj:\n",
    "        list.append(x)\n",
    "    return list\n",
    "def listCols(res:pd.core.frame.DataFrame):\n",
    "    obj=res.columns\n",
    "    list=[]\n",
    "    for c in obj:\n",
    "        list.append(c)\n",
    "    return list"
   ]
  },
  {
   "cell_type": "markdown",
   "metadata": {},
   "source": [
    "QUERY DI TEST"
   ]
  },
  {
   "cell_type": "code",
   "execution_count": null,
   "metadata": {},
   "outputs": [],
   "source": [
    "def treeGen(conn,dbName):\n",
    "    #TODO fix this! u lazy!\n",
    "    conn = pyodbc.connect(f'DRIVER={{ODBC Driver 17 for SQL Server}};SERVER={ser};DATABASE={database};UID={user};PWD={password}')\n",
    "    query=\"SELECT * FROM  INFORMATION_SCHEMA.TABLES WHERE TABLE_TYPE='BASE TABLE'\"\n",
    "    res=pd.read_sql(query, conn)\n",
    "    tablesName=listTables(res)\n",
    "    tables=[]\n",
    "    root=Node(dbName,'DB')\n",
    "    for t in tablesName:\n",
    "        tables.append(Node(t,'table'))\n",
    "    root.add_child(tables)\n",
    "    for t in tables:\n",
    "        query=\"SELECT * FROM  {0} \".format(t.data)\n",
    "        res=pd.read_sql(query, conn)\n",
    "        leafs=listCols(res)\n",
    "        for l in leafs:\n",
    "            n=Node(l,'column')\n",
    "            t.add_child(n)\n",
    "    #pprint_tree(root)\n",
    "    return root"
   ]
  },
  {
   "cell_type": "markdown",
   "metadata": {},
   "source": [
    "### TEST DATAFRAME"
   ]
  },
  {
   "cell_type": "code",
   "execution_count": 12,
   "metadata": {},
   "outputs": [
    {
     "ename": "NameError",
     "evalue": "name 'res' is not defined",
     "output_type": "error",
     "traceback": [
      "\u001b[0;31m---------------------------------------------------------------------------\u001b[0m",
      "\u001b[0;31mNameError\u001b[0m                                 Traceback (most recent call last)",
      "\u001b[0;32m<ipython-input-12-5e4f1841d598>\u001b[0m in \u001b[0;36m<module>\u001b[0;34m\u001b[0m\n\u001b[0;32m----> 1\u001b[0;31m \u001b[0msparkDF\u001b[0m \u001b[0;34m=\u001b[0m  \u001b[0mspark\u001b[0m\u001b[0;34m.\u001b[0m\u001b[0mcreateDataFrame\u001b[0m\u001b[0;34m(\u001b[0m\u001b[0mres\u001b[0m\u001b[0;34m)\u001b[0m\u001b[0;34m\u001b[0m\u001b[0;34m\u001b[0m\u001b[0m\n\u001b[0m",
      "\u001b[0;31mNameError\u001b[0m: name 'res' is not defined"
     ]
    }
   ],
   "source": [
    "sparkDF =  spark.createDataFrame(res)"
   ]
  },
  {
   "cell_type": "markdown",
   "metadata": {},
   "source": [
    "### Cali for ODRL"
   ]
  },
  {
   "cell_type": "code",
   "execution_count": 13,
   "metadata": {},
   "outputs": [],
   "source": [
    "import pycali"
   ]
  },
  {
   "cell_type": "code",
   "execution_count": 14,
   "metadata": {},
   "outputs": [],
   "source": [
    "from pycali.vocabulary import ODRLVocabulary\n",
    "odrl = ODRLVocabulary()\n",
    "\n",
    "#odrl.actions"
   ]
  },
  {
   "cell_type": "markdown",
   "metadata": {},
   "source": [
    "### AD HOC USER\n",
    "CREATE USER Tester WITH PASSWORD = 'SuperSecure.1'; <br>\n",
    "SELECT * FROM sys.database_principals WHERE authentication_type_desc='DATABASE'"
   ]
  },
  {
   "cell_type": "markdown",
   "metadata": {},
   "source": [
    "### SQL QUERY\n",
    "sql query has this structure\n",
    "<pre>\n",
    "SELECT something FROM some table\n",
    "   WHERE some conditions are satisfied\n",
    "\n",
    "UPDATE some table SET something\n",
    "   WHERE some conditions are satisfied\n",
    "<code>"
   ]
  },
  {
   "cell_type": "markdown",
   "metadata": {},
   "source": [
    "### ODRL POLICY TEST"
   ]
  },
  {
   "cell_type": "code",
   "execution_count": 15,
   "metadata": {},
   "outputs": [
    {
     "name": "stdout",
     "output_type": "stream",
     "text": [
      "{\n",
      "  \"@context\": \"http://donnowhatisit.org\",\n",
      "  \"@type\": \"Agreement\",\n",
      "  \"uid\": \"mosaico.database.windows.net/Test:policy:1\",\n",
      "  \"permission\": [\n",
      "    {\n",
      "      \"target\": \"mosaico.database.windows.net/Test:STUDENTI\",\n",
      "      \"assignee\": \"mosaico.database.windows.net/Test:user:Tester\",\n",
      "      \"action\": \"read\"\n",
      "    },\n",
      "    {\n",
      "      \"target\": \"mosaico.database.windows.net/Test:DOCENTI:NOME\",\n",
      "      \"assignee\": \"mosaico.database.windows.net/Test:user:Tester\",\n",
      "      \"action\": \"read\"\n",
      "    }\n",
      "  ]\n",
      "}\n"
     ]
    }
   ],
   "source": [
    "import json,re\n",
    "data={}\n",
    "with open(\"policy.json\") as policy:\n",
    "    data=json.load(policy)\n",
    "print(json.dumps(data, indent=2))"
   ]
  },
  {
   "cell_type": "code",
   "execution_count": 16,
   "metadata": {},
   "outputs": [],
   "source": [
    "MAINSERVER=\"mosaico.database.windows.net/Test\"\n",
    "\n",
    "def jsonPermissionSearch(data,assignee,targetColumn,targetTable):\n",
    "    for e in data['permission']:\n",
    "        #if rule that define access to the whole table\n",
    "        if e['assignee']==\"{0}:user:{1}\".format(MAINSERVER,assignee) and e['target']==\"{0}:{1}\".format(MAINSERVER,targetTable):\n",
    "            #print(\"rule for the whole table found\")\n",
    "            return e\n",
    "        #rule specific to table:column\n",
    "        elif e['assignee']==\"{0}:user:{1}\".format(MAINSERVER,assignee) and e['target']==\"{0}:{1}:{2}\".format(MAINSERVER,targetTable,targetColumn) and targetColumn!='*':\n",
    "            #print(\"rule for the column found\")\n",
    "            return e\n",
    "        else:\n",
    "            pass\n",
    "    #print('no rule found')\n",
    "    return None"
   ]
  },
  {
   "cell_type": "code",
   "execution_count": 17,
   "metadata": {},
   "outputs": [
    {
     "name": "stdout",
     "output_type": "stream",
     "text": [
      "SELECT * FROM STUDENTI;SELECT NOME FROM DOCENTI\n"
     ]
    }
   ],
   "source": [
    "query=\"SELECT * FROM STUDENTI ;SELECT NOME,COGNOME FROM DOCENTI;\"\n",
    "query=query.split(';')\n",
    "#multiple query split-check for select, not for updates\n",
    "completeQueryList=[]\n",
    "for q in query:\n",
    "    if len(q.strip())>0:\n",
    "        res=re.split('SELECT|FROM',q)\n",
    "        res.remove('')\n",
    "        res=[r.strip() for r in res]\n",
    "        #res[0] -> select args\n",
    "        #res[1] -> from args\n",
    "        for column in res[0].split(','):\n",
    "            policy=jsonPermissionSearch(data,'Tester',column,res[1])\n",
    "            if policy and policy['action']=='read':\n",
    "                completeQueryList.append('SELECT {0} FROM {1}'.format(column,res[1]))\n",
    "print(';'.join(completeQueryList))\n"
   ]
  },
  {
   "cell_type": "markdown",
   "metadata": {},
   "source": [
    "#### TODO\n",
    "Aggregare query appartenenti alla stessa tabella per evitare query eccessive.  \n",
    "Se devo selezionare ad esempio nella tabella ALPHA le tuple con NOME==a , NOME==b , NOME==c  deve risultare in :  \n",
    "    SELECT * FROM ALPHA WHERE NAME in ('a', 'b' , 'c')"
   ]
  },
  {
   "cell_type": "markdown",
   "metadata": {},
   "source": [
    "# Json Data sample"
   ]
  },
  {
   "cell_type": "code",
   "execution_count": 33,
   "metadata": {},
   "outputs": [],
   "source": [
    "jsonData='''\n",
    "[{\n",
    "  \"@type\": \"Agreement\",\n",
    "  \"uid\": \"mosaico.database.windows.net/Test:policy:1\",\n",
    "  \"permission\": [{\n",
    "      \"target\": \"mosaico.database.windows.net/Test:STUDENTI\",\n",
    "      \"assignee\": \"mosaico.database.windows.net/Test:user:Tester\",\n",
    "      \"action\": \"read\"\n",
    "  }]\n",
    "  },\n",
    "  {\n",
    "  \"@type\": \"Agreement\",\n",
    "  \"uid\": \"mosaico.database.windows.net/Test:policy:2\",\n",
    "  \"permission\": [\n",
    "    {\n",
    "      \"target\": \"mosaico.database.windows.net/Test:DOCENTI:NOME\",\n",
    "      \"assignee\": \"mosaico.database.windows.net/Test:user:Tester\",\n",
    "      \"action\": \"read\"\n",
    "    }\n",
    "  ]\n",
    "}]\n",
    "'''"
   ]
  },
  {
   "cell_type": "markdown",
   "metadata": {},
   "source": [
    "# Json parser ad hoc\n",
    "TODO: prevedere gruppi di usr per gli accessi"
   ]
  },
  {
   "cell_type": "code",
   "execution_count": 34,
   "metadata": {},
   "outputs": [
    {
     "name": "stdout",
     "output_type": "stream",
     "text": [
      "mosaico.database.windows.net/Test:policy:1\n",
      "\turl: \t\t mosaico.database.windows.net\n",
      "\tdb: \t\t Test\n",
      "\ttable: \t\t STUDENTI\n",
      "\tname: \t\t Tester\n",
      "\tpermission: \t read\n",
      "mosaico.database.windows.net/Test:policy:2\n",
      "\turl: \t\t mosaico.database.windows.net\n",
      "\tdb: \t\t Test\n",
      "\ttable: \t\t DOCENTI\n",
      "\tname: \t\t NOME\n",
      "\tname: \t\t Tester\n",
      "\tpermission: \t read\n"
     ]
    }
   ],
   "source": [
    "#!pip3 install parse\n",
    "import json,pprint\n",
    "from parse import *\n",
    "\n",
    "def parseIRIdb(iri):\n",
    "    std_target=\"{serverUrl}/{db}:{table}:{name}\"\n",
    "    p=parse(std_target,iri)\n",
    "    if p==None:\n",
    "        std_target=\"{serverUrl}/{db}:{table}\"\n",
    "        p=parse(std_target,iri)\n",
    "        if p==None:\n",
    "            std_target=\"{serverUrl}/{db}\"\n",
    "            p=parse(std_target,iri)\n",
    "    print(\"\\turl: \\t\\t\",p[\"serverUrl\"])\n",
    "    print(\"\\tdb: \\t\\t\",p[\"db\"])\n",
    "    if \"table\" in p:\n",
    "        print(\"\\ttable: \\t\\t\",p[\"table\"])\n",
    "    if \"name\" in p:\n",
    "        print(\"\\tname: \\t\\t\",p[\"name\"])\n",
    "        \n",
    "def parseIRIusr(iri):\n",
    "    std_target=\"{serverUrl}/{db}:{table}:{name}\"\n",
    "    p=parse(std_target,iri)\n",
    "    print(\"\\tname: \\t\\t\",p[\"name\"])\n",
    "    \n",
    "def parseODLR(jsonData):\n",
    "    doc = json.loads(jsonData)\n",
    "    for rule in doc:\n",
    "        rule_dict=rule.get(\"permission\")[0]\n",
    "        rule_type=rule.get(\"@type\")\n",
    "        rule_id=rule.get(\"uid\")\n",
    "        print(rule_id)\n",
    "        trg=rule_dict.get(\"target\")\n",
    "        parseIRIdb(trg)\n",
    "        ass=rule_dict.get(\"assignee\")\n",
    "        parseIRIusr(ass)\n",
    "        print(\"\\tpermission: \\t\",rule_dict.get(\"action\"))\n",
    "\n",
    "\n",
    "parseODLR(jsonData)\n",
    "    "
   ]
  },
  {
   "cell_type": "markdown",
   "metadata": {},
   "source": [
    "## RDFLIB time"
   ]
  },
  {
   "cell_type": "code",
   "execution_count": null,
   "metadata": {},
   "outputs": [],
   "source": []
  },
  {
   "cell_type": "code",
   "execution_count": 35,
   "metadata": {
    "scrolled": false
   },
   "outputs": [
    {
     "data": {
      "text/plain": [
       "b'_:N322a5cb16a794c46890e2ea526ac69c9 <http://www.w3.org/1999/02/22-rdf-syntax-ns#type> <file:///home/mosaico/Documents/mosaico/Agreement> .\\n_:N020403ef201a40e09bb9bd3bfa58add6 <http://www.w3.org/1999/02/22-rdf-syntax-ns#type> <file:///home/mosaico/Documents/mosaico/Agreement> .\\n\\n'"
      ]
     },
     "execution_count": 35,
     "metadata": {},
     "output_type": "execute_result"
    }
   ],
   "source": [
    "#!pip3 install rdflib-jsonld\n",
    "from rdflib import Graph, plugin\n",
    "import rdflib\n",
    "g=Graph().parse(data=jsonData,format='json-ld')\n",
    "g.serialize(format='nt')"
   ]
  },
  {
   "cell_type": "code",
   "execution_count": 36,
   "metadata": {},
   "outputs": [
    {
     "name": "stdout",
     "output_type": "stream",
     "text": [
      "False\n"
     ]
    },
    {
     "data": {
      "text/plain": [
       "[(rdflib.term.URIRef('http://example.org/about'),\n",
       "  rdflib.term.URIRef('http://purl.org/dc/terms/title'),\n",
       "  rdflib.term.Literal(\"Someone's Homepage\", lang='en'))]"
      ]
     },
     "execution_count": 36,
     "metadata": {},
     "output_type": "execute_result"
    }
   ],
   "source": [
    "import pprint\n",
    "okString='''{\n",
    "    \"@id\": \"http://example.org/about\",\n",
    "    \"http://purl.org/dc/terms/title\": [\n",
    "        {\n",
    "            \"@type\": \"literal\",\n",
    "            \"@language\": \"en\",\n",
    "            \"@value\": \"Someone's Homepage\"\n",
    "        }\n",
    "    ],\n",
    "    \"@authorization\":\"read\"\n",
    "}'''\n",
    "\n",
    "print(isinstance(okString,dict))\n",
    "g=Graph().parse(data=okString,format='json-ld')\n",
    "list(g)"
   ]
  },
  {
   "cell_type": "markdown",
   "metadata": {},
   "source": []
  },
  {
   "cell_type": "markdown",
   "metadata": {},
   "source": [
    "# TREE GENERATOR"
   ]
  },
  {
   "cell_type": "code",
   "execution_count": 40,
   "metadata": {},
   "outputs": [],
   "source": [
    "tree1=treeGen(conn,\"Test\")"
   ]
  },
  {
   "cell_type": "code",
   "execution_count": 41,
   "metadata": {},
   "outputs": [],
   "source": [
    "def authFinder(subject,file,permType='read'):\n",
    "    doc = json.loads(file)\n",
    "    targets=[]\n",
    "    if permType=='read' or permType=='write': #correct permission\n",
    "        rules=[]\n",
    "        for rule in doc:\n",
    "            rule_dict=rule.get(\"permission\")[0]\n",
    "            rule_type=rule.get(\"@type\")\n",
    "            ass=rule_dict.get(\"assignee\")\n",
    "            if rule_type==permType and ass==subject:\n",
    "                trg=rule_dict.get(\"target\")\n",
    "                parseURIdb(trg)\n",
    "                targets.append(trg)\n",
    "        return rules\n",
    "    else:\n",
    "        return false\n",
    "def URIgenerator(Node,server):\n",
    "    rootReached=False\n",
    "    uri=\"\"\n",
    "    while not rootReached:\n",
    "        if uri!=\"\":\n",
    "            uri=Node.data+\":\"+uri\n",
    "        else:\n",
    "            uri=Node.data\n",
    "        if Node.parent!= Node:\n",
    "            Node=Node.parent\n",
    "        else:\n",
    "            rootReached=True\n",
    "    return server+\"/\"+uri\n",
    "\n",
    "def treeAnalyzer(subject,authFile,server,request='read'):\n",
    "    global conn,tree1\n",
    "    auths=authFinder(subject,authFile)\n",
    "    tbaNodes=[]\n",
    "    tbaNodes.append(tree1)\n",
    "    #tbaNodes.append(treeGen(conn,\"Test\")) #SERVER NAME STATICO!\n",
    "    while True:\n",
    "        for node in tbaNodes:\n",
    "            if len(node.children)>0:\n",
    "                for child in node.children:\n",
    "                    x=URIgenerator(child,server)\n",
    "                    print(x)\n",
    "                    tbaNodes.append(child)\n",
    "            tbaNodes.remove(node)\n",
    "        if len(tbaNodes)==0:\n",
    "            break\n",
    "        \n",
    "    else:\n",
    "        print(\"no child nodes\")\n",
    "    #pprint_tree(treeRoot)"
   ]
  },
  {
   "cell_type": "code",
   "execution_count": 42,
   "metadata": {},
   "outputs": [
    {
     "name": "stdout",
     "output_type": "stream",
     "text": [
      "mosaico.database.windows.net/Test:STUDENTI\n",
      "mosaico.database.windows.net/Test:PROFESSORI\n",
      "mosaico.database.windows.net/Test:PROFESSORI:NOME\n",
      "mosaico.database.windows.net/Test:PROFESSORI:COGNOME\n",
      "mosaico.database.windows.net/Test:STUDENTI:NOME\n",
      "mosaico.database.windows.net/Test:STUDENTI:COGNOME\n",
      "mosaico.database.windows.net/Test:STUDENTI:CF\n",
      "mosaico.database.windows.net/Test:STUDENTI:IBAN\n"
     ]
    }
   ],
   "source": [
    "serv=\"mosaico.database.windows.net\"\n",
    "#pprint_tree(treeGen(conn,\"Test\"))\n",
    "treeAnalyzer(\"Tom\",jsonData,serv)\n"
   ]
  },
  {
   "cell_type": "code",
   "execution_count": null,
   "metadata": {},
   "outputs": [],
   "source": []
  },
  {
   "cell_type": "code",
   "execution_count": null,
   "metadata": {},
   "outputs": [],
   "source": []
  }
 ],
 "metadata": {
  "kernelspec": {
   "display_name": "Python 3",
   "language": "python",
   "name": "python3"
  },
  "language_info": {
   "codemirror_mode": {
    "name": "ipython",
    "version": 3
   },
   "file_extension": ".py",
   "mimetype": "text/x-python",
   "name": "python",
   "nbconvert_exporter": "python",
   "pygments_lexer": "ipython3",
   "version": "3.6.9"
  }
 },
 "nbformat": 4,
 "nbformat_minor": 4
}
