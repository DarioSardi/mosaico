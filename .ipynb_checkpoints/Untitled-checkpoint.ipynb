{
 "cells": [
  {
   "cell_type": "markdown",
   "id": "9a909edb-8337-456c-8597-fc168000159e",
   "metadata": {},
   "source": [
    "# ODLR PARSER"
   ]
  },
  {
   "cell_type": "code",
   "execution_count": 4,
   "id": "c66947ae-1648-439b-b95f-545930c1c31d",
   "metadata": {},
   "outputs": [],
   "source": [
    "import sys\n",
    "try:\n",
    "    import pycali\n",
    "except:\n",
    "    !{sys.executable} -m pip install pycali\n",
    "    "
   ]
  },
  {
   "cell_type": "markdown",
   "id": "d61b2515-d591-41e1-88db-0785c78c23d5",
   "metadata": {},
   "source": [
    "Rules consists of four components:\n",
    "- assignee: the subject that makes the request;\n",
    "- target: the dataset on which the subject wants to perform operation;\n",
    "- action: the category the operation requested falls in;\n",
    "- purpose: the reason for which the dataset is being requested (a different definition with respect to ODRL vocabolary, see MOSAICrOWN vocabolary).\n"
   ]
  },
  {
   "cell_type": "code",
   "execution_count": 1,
   "id": "63ceff3d-c195-4705-a2b5-2983af4b9106",
   "metadata": {},
   "outputs": [],
   "source": [
    "jsonData='''\n",
    "[{\n",
    "  \"@type\": \"Agreement\",\n",
    "  \"uid\": \"mosaico.database.windows.net/Test:policy:1\",\n",
    "  \"permission\": [{\n",
    "      \"target\": \"mosaico.database.windows.net/Test:STUDENTI\",\n",
    "      \"assignee\": \"mosaico.database.windows.net/Test:user:Tester\",\n",
    "      \"action\": \"read\"\n",
    "  }]\n",
    "  },\n",
    "  {\n",
    "  \"@type\": \"Agreement\",\n",
    "  \"uid\": \"mosaico.database.windows.net/Test:policy:2\",\n",
    "  \"permission\": [\n",
    "    {\n",
    "      \"target\": \"mosaico.database.windows.net/Test:DOCENTI:NOME\",\n",
    "      \"assignee\": \"mosaico.database.windows.net/Test:user:Tester\",\n",
    "      \"action\": \"read\"\n",
    "    }\n",
    "  ]\n",
    "}]\n",
    "'''"
   ]
  },
  {
   "cell_type": "code",
   "execution_count": null,
   "id": "da6ba74c-7005-42d4-9c71-872fef993429",
   "metadata": {},
   "outputs": [],
   "source": []
  },
  {
   "cell_type": "code",
   "execution_count": 8,
   "id": "2a0ca260-8620-4b51-823c-de0c0ba55a6f",
   "metadata": {},
   "outputs": [
    {
     "name": "stdout",
     "output_type": "stream",
     "text": [
      "[a rdfg:Graph;rdflib:storage [a rdflib:Store;rdfs:label 'Memory']].\n"
     ]
    }
   ],
   "source": [
    "from pycali.vocabulary import ODRLVocabulary\n",
    "odrl = ODRLVocabulary()\n",
    "# access the list of actions\n",
    "from rdflib import Graph\n",
    "from pycali.restrictiveness_lattice_of_status import RestrictivenessLatticeOfStatus\n",
    "from pycali.examples.restrictiveness_lattice_of_status.DL1 import dl1_rdf\n",
    "\n",
    "# Load the LS in the examples \n",
    "# Turtle format (ttl) contains tuple infos\n",
    "print(Graph().parse(data=jsonData,format='json-ld'))"
   ]
  },
  {
   "cell_type": "code",
   "execution_count": null,
   "id": "37ed5070-9f5c-4358-88aa-9e31a4a28c45",
   "metadata": {},
   "outputs": [],
   "source": []
  }
 ],
 "metadata": {
  "kernelspec": {
   "display_name": "Python 3 (ipykernel)",
   "language": "python",
   "name": "python3"
  },
  "language_info": {
   "codemirror_mode": {
    "name": "ipython",
    "version": 3
   },
   "file_extension": ".py",
   "mimetype": "text/x-python",
   "name": "python",
   "nbconvert_exporter": "python",
   "pygments_lexer": "ipython3",
   "version": "3.9.5"
  }
 },
 "nbformat": 4,
 "nbformat_minor": 5
}
