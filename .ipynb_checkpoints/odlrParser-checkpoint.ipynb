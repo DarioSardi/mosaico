{
 "cells": [
  {
   "cell_type": "markdown",
   "id": "9a909edb-8337-456c-8597-fc168000159e",
   "metadata": {},
   "source": [
    "# ODLR PARSER"
   ]
  },
  {
   "cell_type": "code",
   "execution_count": 2,
   "id": "c66947ae-1648-439b-b95f-545930c1c31d",
   "metadata": {},
   "outputs": [],
   "source": [
    "import sys\n",
    "try:\n",
    "    import pycali\n",
    "except:\n",
    "    !{sys.executable} -m pip install pycali\n",
    "try:\n",
    "    import rdflib\n",
    "except:\n",
    "    !{sys.executable} -m pip install rdflib\n",
    "\n",
    "from pyld import jsonld\n",
    "import json,urllib,os"
   ]
  },
  {
   "cell_type": "markdown",
   "id": "d61b2515-d591-41e1-88db-0785c78c23d5",
   "metadata": {},
   "source": [
    "Rules consists of four components:\n",
    "- assignee: the subject that makes the request;\n",
    "- target: the dataset on which the subject wants to perform operation;\n",
    "- action: the category the operation requested falls in;\n",
    "- purpose: the reason for which the dataset is being requested (a different definition with respect to ODRL vocabolary, see MOSAICrOWN vocabolary).\n"
   ]
  },
  {
   "cell_type": "code",
   "execution_count": 3,
   "id": "63ceff3d-c195-4705-a2b5-2983af4b9106",
   "metadata": {},
   "outputs": [],
   "source": [
    "singleData={\n",
    "    \"@context\": \"http://www.w3.org/ns/odrl.jsonld\",\n",
    "    \"@type\": \"Set\",\n",
    "    \"uid\": \"http://example.com/policy:1010\",\n",
    "    \"permission\": [{\n",
    "        \"target\": \"http://example.com/asset:9898.movie\",\n",
    "        \"action\": \"use\"\n",
    "    }]\n",
    "}\n",
    "\n",
    "multipleTarget={\n",
    "    \"@context\": \"http://www.w3.org/ns/odrl.jsonld\",\n",
    "    \"@type\": \"Policy\",\n",
    "    \"uid\": \"http://example.com/policy:8888\",\n",
    "    \"profile\": \"http://example.com/odrl:profile:20\",\n",
    "    \"permission\": [{\n",
    "        \"target\": \"http://example.com/music/1999.mp3\",\n",
    "        \"assignee\": \"http://example.com/people/billie\",\n",
    "        \"assigner\": \"http://example.com/org/sony-music\",\n",
    "        \"action\": \"play\"\n",
    "    },\n",
    "    {\n",
    "        \"target\": \"http://example.com/music/1999.mp3\",\n",
    "        \"assignee\": \"http://example.com/people/joe\",\n",
    "        \"assigner\": \"http://example.com/org/sony-music\",\n",
    "        \"action\": \"stream\"\n",
    "    },\n",
    "\t{\n",
    "        \"target\": \"http://example.com/music/PurpleRain.mp3\",\n",
    "        \"assignee\": \"http://example.com/people/danny\",\n",
    "        \"assigner\": \"http://example.com/org/sony-music\",\n",
    "        \"action\": \"play\"\n",
    "    },\n",
    "\t{\n",
    "        \"target\": \"http://example.com/music/PurpleRain.mp3\",\n",
    "        \"assignee\": \"http://example.com/people/alex\",\n",
    "        \"assigner\": \"http://example.com/org/sony-music\",\n",
    "        \"action\": \"stream\"\n",
    "    }]\n",
    "}\n"
   ]
  },
  {
   "cell_type": "code",
   "execution_count": 4,
   "id": "3f5bb7c0",
   "metadata": {},
   "outputs": [],
   "source": [
    "%run TreePrinter.ipynb"
   ]
  },
  {
   "cell_type": "code",
   "execution_count": 5,
   "id": "2a0ca260-8620-4b51-823c-de0c0ba55a6f",
   "metadata": {},
   "outputs": [
    {
     "name": "stdout",
     "output_type": "stream",
     "text": [
      "{\n",
      "  \"action\": \"stream\",\n",
      "  \"assignee\": \"http://example.com/people/joe\",\n",
      "  \"assigner\": \"http://example.com/org/sony-music\",\n",
      "  \"target\": \"http://example.com/music/1999.mp3\"\n",
      "}\n"
     ]
    }
   ],
   "source": [
    "import pycali,rdflib\n",
    "from pyld import jsonld\n",
    "import json,urllib\n",
    "\n",
    "jsonld.set_document_loader(jsonld.requests_document_loader(timeout=500))\n",
    "compacted = jsonld.compact(multipleTarget, 'http://www.w3.org/ns/odrl.jsonld')\n",
    "print(json.dumps(compacted[\"permission\"][1], indent=2))\n",
    "assigneeIRI=\"\"\n",
    "targetIRI=\"\"\n",
    "assignerIRI=\"\"\n",
    "\n",
    "def setIRI(assignee=\"\",target=\"\",assigner=\"\"):\n",
    "    global assigneeIRI,targetIRI,assignerIRI\n",
    "    if(assignee!=\"\"): assigneeIRI=assignee\n",
    "    if(target!=\"\") : targetIRI=target\n",
    "    if(assigner!=\"\") : assignerIRI=assigner\n",
    "\n",
    "\n",
    "\n",
    "permissionList = []\n",
    "odlrFolder = os.getcwd() + \"/odlr/\"\n",
    "\n",
    "def permissionSearcher(name, dbTree,IRI,permissionType):\n",
    "    for filename in os.listdir(odlrFolder):\n",
    "        if filename.endswith(\".odlr\"):\n",
    "            with open(odlrFolder+filename) as file:\n",
    "                raw=file.read()\n",
    "                data=json.loads(raw)\n",
    "                compact = jsonld.compact(data,'http://www.w3.org/ns/odrl.jsonld')\n",
    "                for perm in compact[\"permission\"]:\n",
    "                    if(perm[\"assignee\"]==name and perm[\"action\"]==permissionType ):\n",
    "                        #print(perm[\"target\"],\" : \",perm[\"action\"])\n",
    "                        trg=perm[\"target\"].replace(IRI,'').strip().split(\"/\")\n",
    "                        lvl=dbTree\n",
    "                        for t in trg:\n",
    "                            if lvl.has_child(t):\n",
    "                                lvl=lvl.get_child(t)\n",
    "                        lvl.setHierarchicalAuth(True)\n",
    " \n",
    "          \n",
    "    \n",
    "\n",
    "    "
   ]
  },
  {
   "cell_type": "markdown",
   "id": "f5f0358f",
   "metadata": {},
   "source": [
    "### Create the db tree from files \n",
    "This function takes uri from files and generate the tree needed for the program."
   ]
  },
  {
   "cell_type": "code",
   "execution_count": 6,
   "id": "d85258ce",
   "metadata": {},
   "outputs": [],
   "source": [
    "'''\n",
    "create db tree compatible with the odlr rules\n",
    "'''\n",
    "def treeCreator():\n",
    "    dbFolder = os.getcwd() + \"/db/\"\n",
    "    IRI = \"http://example.com\"\n",
    "    root= Node(IRI)\n",
    "    for file in os.listdir(dbFolder):\n",
    "        with open(dbFolder + file) as file:\n",
    "            lines=file.readlines()\n",
    "            for l in lines:\n",
    "                data=l.strip().split('/')\n",
    "                current=root\n",
    "                for level in data:\n",
    "                    #print(level)\n",
    "                    if current.has_child(level)==True:\n",
    "                        for n in current.get_children():\n",
    "                            if n.data == level:\n",
    "                                current=n\n",
    "                    else:\n",
    "                        n = Node(level)\n",
    "                        current.add_child(n)\n",
    "                        current=n\n",
    "                        \n",
    "    return root\n",
    "\n",
    "\n",
    "dbTree=treeCreator()"
   ]
  },
  {
   "cell_type": "code",
   "execution_count": null,
   "id": "8c6d4317",
   "metadata": {},
   "outputs": [],
   "source": [
    "import copy\n",
    "billieTree=copy.deepcopy(dbTree)\n",
    "permissionSearcher(\"http://example.com/people/billie\",billieTree,\"http://example.com\",\"edit\")\n",
    "print(\"BILLIE\")\n",
    "pprint_tree(billieTree)\n",
    "\n",
    "dannyTree=copy.deepcopy(dbTree)\n",
    "permissionSearcher(\"http://example.com/people/danny\",dannyTree,\"http://example.com\",\"play\")\n",
    "print(\"DANNY\")\n",
    "pprint_tree(dannyTree)\n"
   ]
  },
  {
   "cell_type": "markdown",
   "id": "58164f76",
   "metadata": {},
   "source": [
    "## QUERY ANALYZER\n",
    "- query in ingresso (nel linguaggio che preferisci)\n",
    "- ragionare su permessi e divieti della policy, e riscrivere la query in modo tale da restituire la più ampia porzione dati a cui un soggetto può accedere. Avendo permessi e divieti su una struttura ad albero, avrai diverse alternative di implementazione (per esempio, potresti immaginare che i divieti posti su un nodo si propagano verso i nodi figlio sovrascrivendo eventuali permessi).\n",
    "\n",
    "\n",
    "[Come si richiedono dati gerarchici in sql?](https://learnsql.com/blog/how-to-query-hierarchical-data/)\n",
    "\n",
    "[esistono metodi di query migliori per questi tipi di dati?]\n",
    "\n",
    "esempi di query:\n",
    "- tutti i dati a cui un utente ha accesso:\n",
    "    ```\n",
    "        GET example.com/\n",
    "    ```\n",
    "- info utente\n",
    "    ```\n",
    "        GET example.com/{user_id}\n",
    "    ```\n",
    "- info dato relativo a utente specifico\n",
    "    ```\n",
    "        GET example.com/{user_id}/age\n",
    "    ```\n",
    "- metodi su dati: \n",
    "    * GET    (ottenere dato)\n",
    "    * PUT    (modificare)\n",
    "    * POST   (creare)\n",
    "    * DELETE"
   ]
  },
  {
   "cell_type": "code",
   "execution_count": null,
   "id": "ad4e5d67",
   "metadata": {},
   "outputs": [],
   "source": []
  }
 ],
 "metadata": {
  "kernelspec": {
   "display_name": "Python 3 (ipykernel)",
   "language": "python",
   "name": "python3"
  }
 },
 "nbformat": 4,
 "nbformat_minor": 5
}
