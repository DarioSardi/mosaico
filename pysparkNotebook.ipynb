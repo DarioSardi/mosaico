{
 "cells": [
  {
   "cell_type": "code",
   "execution_count": 1,
   "metadata": {},
   "outputs": [],
   "source": [
    "%run TreePrinter.ipynb"
   ]
  },
  {
   "cell_type": "code",
   "execution_count": 2,
   "metadata": {},
   "outputs": [],
   "source": [
    "import findspark\n",
    "findspark.init('/usr/local/spark')"
   ]
  },
  {
   "cell_type": "code",
   "execution_count": 3,
   "metadata": {},
   "outputs": [],
   "source": [
    "import pyspark,pyodbc"
   ]
  },
  {
   "cell_type": "code",
   "execution_count": 4,
   "metadata": {},
   "outputs": [],
   "source": [
    "from pyspark import SparkContext, SparkConf, SQLContext\n",
    "import _mssql\n",
    "import pandas as pd"
   ]
  },
  {
   "cell_type": "code",
   "execution_count": 5,
   "metadata": {},
   "outputs": [],
   "source": [
    "master=\"local\"\n",
    "conf = SparkConf() \\\n",
    "    .setAppName(\"pysparkToAzure\") \\\n",
    "    .setMaster(master) \\\n",
    "    .set(\"spark.driver.extraClassPath\",\"/home/mosaico/Documents/mosaico/sqljdbc_8.2/mssql-jdbc-8.2.0.jre11.jar\")\\\n",
    "    .set(\"spark.executor.extraClassPath\",\"/home/mosaico/Documents/mosaico/sqljdbc_8.2/mssql-jdbc-8.2.0.jre11.jar\")\n",
    "sc=pyspark.SparkContext(conf=conf)"
   ]
  },
  {
   "cell_type": "markdown",
   "metadata": {},
   "source": [
    "sc.stop()"
   ]
  },
  {
   "cell_type": "code",
   "execution_count": 6,
   "metadata": {},
   "outputs": [
    {
     "data": {
      "text/plain": [
       "'pysparkToAzure'"
      ]
     },
     "execution_count": 6,
     "metadata": {},
     "output_type": "execute_result"
    }
   ],
   "source": [
    "sc.appName"
   ]
  },
  {
   "cell_type": "code",
   "execution_count": 7,
   "metadata": {},
   "outputs": [],
   "source": [
    "sqlContext = SQLContext(sc)\n",
    "spark = sqlContext.sparkSession"
   ]
  },
  {
   "cell_type": "code",
   "execution_count": 8,
   "metadata": {},
   "outputs": [],
   "source": [
    "database = \"Test\"\n",
    "ser=\"mosaico.database.windows.net,1433\"\n",
    "table = \"dbo.DOCENTI\"\n",
    "user = \"PanDario\"\n",
    "password = \"Mosaico2020\"\n"
   ]
  },
  {
   "cell_type": "code",
   "execution_count": 11,
   "metadata": {},
   "outputs": [],
   "source": [
    "conn = pyodbc.connect(f'DRIVER={{ODBC Driver 17 for SQL Server}};SERVER={ser};DATABASE={database};UID={user};PWD={password}')"
   ]
  },
  {
   "cell_type": "code",
   "execution_count": 12,
   "metadata": {},
   "outputs": [],
   "source": [
    "def listTables(res:pd.core.frame.DataFrame):\n",
    "    obj=res['TABLE_NAME']\n",
    "    list=[]\n",
    "    for x in obj:\n",
    "        list.append(x)\n",
    "    return list\n",
    "def listCols(res:pd.core.frame.DataFrame):\n",
    "    obj=res.columns\n",
    "    list=[]\n",
    "    for c in obj:\n",
    "        list.append(c)\n",
    "    return list"
   ]
  },
  {
   "cell_type": "markdown",
   "metadata": {},
   "source": [
    "QUERY DI TEST"
   ]
  },
  {
   "cell_type": "code",
   "execution_count": 13,
   "metadata": {},
   "outputs": [
    {
     "name": "stdout",
     "output_type": "stream",
     "text": [
      "`- \u001b[32mTest\u001b[0m\n",
      "   |- \u001b[32mSTUDENTI\u001b[0m\n",
      "   |  |- \u001b[32mNOME\u001b[0m\n",
      "   |  |- \u001b[32mCOGNOME\u001b[0m\n",
      "   |  |- \u001b[32mCF\u001b[0m\n",
      "   |  `- \u001b[32mIBAN\u001b[0m\n",
      "   `- \u001b[32mPROFESSORI\u001b[0m\n",
      "      |- \u001b[32mNOME\u001b[0m\n",
      "      `- \u001b[32mCOGNOME\u001b[0m\n"
     ]
    }
   ],
   "source": [
    "query=\"SELECT * FROM  INFORMATION_SCHEMA.TABLES WHERE TABLE_TYPE='BASE TABLE'\"\n",
    "res=pd.read_sql(query, conn)\n",
    "tablesName=listTables(res)\n",
    "tables=[]\n",
    "root=Node(\"Test\",'DB')\n",
    "for t in tablesName:\n",
    "    tables.append(Node(t,'table'))\n",
    "root.add_child(tables)\n",
    "for t in tables:\n",
    "    query=\"SELECT * FROM  {0} \".format(t.data)\n",
    "    res=pd.read_sql(query, conn)\n",
    "    leafs=listCols(res)\n",
    "    for l in leafs:\n",
    "        n=Node(l,'column')\n",
    "        t.add_child(n)\n",
    "\n",
    "pprint_tree(root)"
   ]
  },
  {
   "cell_type": "markdown",
   "metadata": {},
   "source": [
    "### TEST DATAFRAME"
   ]
  },
  {
   "cell_type": "code",
   "execution_count": 14,
   "metadata": {},
   "outputs": [],
   "source": [
    "sparkDF =  spark.createDataFrame(res)"
   ]
  },
  {
   "cell_type": "markdown",
   "metadata": {},
   "source": [
    "### Cali for ODRL"
   ]
  },
  {
   "cell_type": "code",
   "execution_count": 1,
   "metadata": {},
   "outputs": [],
   "source": [
    "import pycali"
   ]
  },
  {
   "cell_type": "code",
   "execution_count": 2,
   "metadata": {},
   "outputs": [],
   "source": [
    "from pycali.vocabulary import ODRLVocabulary\n",
    "odrl = ODRLVocabulary()\n",
    "\n",
    "#odrl.actions"
   ]
  },
  {
   "cell_type": "markdown",
   "metadata": {},
   "source": [
    "### AD HOC USER\n",
    "CREATE USER Tester WITH PASSWORD = 'SuperSecure.1'; <br>\n",
    "SELECT * FROM sys.database_principals WHERE authentication_type_desc='DATABASE'"
   ]
  },
  {
   "cell_type": "markdown",
   "metadata": {},
   "source": [
    "### SQL QUERY\n",
    "sql query has this structure\n",
    "<pre>\n",
    "SELECT something FROM some table\n",
    "   WHERE some conditions are satisfied\n",
    "\n",
    "UPDATE some table SET something\n",
    "   WHERE some conditions are satisfied\n",
    "<code>"
   ]
  },
  {
   "cell_type": "markdown",
   "metadata": {},
   "source": [
    "### ODRL POLICY TEST"
   ]
  },
  {
   "cell_type": "code",
   "execution_count": 15,
   "metadata": {},
   "outputs": [
    {
     "name": "stdout",
     "output_type": "stream",
     "text": [
      "{\n",
      "  \"@context\": \"http://donnowhatisit.org\",\n",
      "  \"@type\": \"Agreement\",\n",
      "  \"uid\": \"mosaico.database.windows.net/Test:policy:1\",\n",
      "  \"permission\": [\n",
      "    {\n",
      "      \"target\": \"mosaico.database.windows.net/Test:STUDENTI\",\n",
      "      \"assignee\": \"mosaico.database.windows.net/Test:user:Tester\",\n",
      "      \"action\": \"read\"\n",
      "    },\n",
      "    {\n",
      "      \"target\": \"mosaico.database.windows.net/Test:DOCENTI:NOME\",\n",
      "      \"assignee\": \"mosaico.database.windows.net/Test:user:Tester\",\n",
      "      \"action\": \"read\"\n",
      "    }\n",
      "  ]\n",
      "}\n"
     ]
    }
   ],
   "source": [
    "import json,re\n",
    "data={}\n",
    "with open(\"policy.json\") as policy:\n",
    "    data=json.load(policy)\n",
    "print(json.dumps(data, indent=2))"
   ]
  },
  {
   "cell_type": "code",
   "execution_count": 16,
   "metadata": {},
   "outputs": [],
   "source": [
    "MAINSERVER=\"mosaico.database.windows.net/Test\"\n",
    "\n",
    "def jsonPermissionSearch(data,assignee,targetColumn,targetTable):\n",
    "    for e in data['permission']:\n",
    "        #if rule that define access to the whole table\n",
    "        if e['assignee']==\"{0}:user:{1}\".format(MAINSERVER,assignee) and e['target']==\"{0}:{1}\".format(MAINSERVER,targetTable):\n",
    "            #print(\"rule for the whole table found\")\n",
    "            return e\n",
    "        #rule specific to table:column\n",
    "        elif e['assignee']==\"{0}:user:{1}\".format(MAINSERVER,assignee) and e['target']==\"{0}:{1}:{2}\".format(MAINSERVER,targetTable,targetColumn) and targetColumn!='*':\n",
    "            #print(\"rule for the column found\")\n",
    "            return e\n",
    "        else:\n",
    "            pass\n",
    "    #print('no rule found')\n",
    "    return None"
   ]
  },
  {
   "cell_type": "code",
   "execution_count": 17,
   "metadata": {},
   "outputs": [
    {
     "name": "stdout",
     "output_type": "stream",
     "text": [
      "SELECT * FROM STUDENTI;SELECT NOME FROM DOCENTI\n"
     ]
    }
   ],
   "source": [
    "query=\"SELECT * FROM STUDENTI ;SELECT NOME,COGNOME FROM DOCENTI;\"\n",
    "query=query.split(';')\n",
    "#multiple query split-check for select, not for updates\n",
    "completeQueryList=[]\n",
    "for q in query:\n",
    "    if len(q.strip())>0:\n",
    "        res=re.split('SELECT|FROM',q)\n",
    "        res.remove('')\n",
    "        res=[r.strip() for r in res]\n",
    "        #res[0] -> select args\n",
    "        #res[1] -> from args\n",
    "        for column in res[0].split(','):\n",
    "            policy=jsonPermissionSearch(data,'Tester',column,res[1])\n",
    "            if policy and policy['action']=='read':\n",
    "                completeQueryList.append('SELECT {0} FROM {1}'.format(column,res[1]))\n",
    "print(';'.join(completeQueryList))\n"
   ]
  },
  {
   "cell_type": "markdown",
   "metadata": {},
   "source": [
    "#### TODO\n",
    "Aggregare query appartenenti alla stessa tabella per evitare query eccessive.  \n",
    "Se devo selezionare ad esempio nella tabella ALPHA le tuple con NOME==a , NOME==b , NOME==c  deve risultare in :  \n",
    "    SELECT * FROM ALPHA WHERE NAME in ('a', 'b' , 'c')"
   ]
  },
  {
   "cell_type": "markdown",
   "metadata": {},
   "source": [
    "## RDFLIB time"
   ]
  },
  {
   "cell_type": "code",
   "execution_count": 3,
   "metadata": {},
   "outputs": [],
   "source": [
    "#!pip3 install rdflib-jsonld\n",
    "from rdflib import Graph, plugin\n",
    "jsonData='''\n",
    "[{\n",
    "  \"@type\": \"Agreement\",\n",
    "  \"uid\": \"mosaico.database.windows.net/Test:policy:1\",\n",
    "  \"permission\": [{\n",
    "      \"target\": \"mosaico.database.windows.net/Test:STUDENTI\",\n",
    "      \"assignee\": \"mosaico.database.windows.net/Test:user:Tester\",\n",
    "      \"action\": \"read\"\n",
    "  }]\n",
    "  },\n",
    "  {\n",
    "  \"@type\": \"Agreement\",\n",
    "  \"uid\": \"mosaico.database.windows.net/Test:policy:1\",\n",
    "  \"permission\": [\n",
    "    {\n",
    "      \"target\": \"mosaico.database.windows.net/Test:DOCENTI:NOME\",\n",
    "      \"assignee\": \"mosaico.database.windows.net/Test:user:Tester\",\n",
    "      \"action\": \"read\"\n",
    "    }\n",
    "  ]\n",
    "}]\n",
    "'''"
   ]
  },
  {
   "cell_type": "code",
   "execution_count": 4,
   "metadata": {
    "scrolled": false
   },
   "outputs": [
    {
     "data": {
      "text/plain": [
       "b'_:N43afefaddae44a1681f62bbb642f6bd6 <http://www.w3.org/1999/02/22-rdf-syntax-ns#type> <file:///home/mosaico/Documents/mosaico/Agreement> .\\n_:Ncf6291d1b875416c97cfca231839bbf8 <http://www.w3.org/1999/02/22-rdf-syntax-ns#type> <file:///home/mosaico/Documents/mosaico/Agreement> .\\n\\n'"
      ]
     },
     "execution_count": 4,
     "metadata": {},
     "output_type": "execute_result"
    }
   ],
   "source": [
    "import rdflib\n",
    "g=Graph().parse(data=jsonData,format='json-ld')\n",
    "g.serialize(format='nt')"
   ]
  },
  {
   "cell_type": "code",
   "execution_count": 22,
   "metadata": {},
   "outputs": [
    {
     "name": "stdout",
     "output_type": "stream",
     "text": [
      "False\n"
     ]
    },
    {
     "data": {
      "text/plain": [
       "[(rdflib.term.URIRef('http://example.org/about'),\n",
       "  rdflib.term.URIRef('http://purl.org/dc/terms/title'),\n",
       "  rdflib.term.Literal(\"Someone's Homepage\", lang='en'))]"
      ]
     },
     "execution_count": 22,
     "metadata": {},
     "output_type": "execute_result"
    }
   ],
   "source": [
    "import pprint\n",
    "okString='''{\n",
    "    \"@id\": \"http://example.org/about\",\n",
    "    \"http://purl.org/dc/terms/title\": [\n",
    "        {\n",
    "            \"@type\": \"literal\",\n",
    "            \"@language\": \"en\",\n",
    "            \"@value\": \"Someone's Homepage\"\n",
    "        }\n",
    "    ],\n",
    "    \"@authorization\":\"read\"\n",
    "}'''\n",
    "\n",
    "print(isinstance(okString,dict))\n",
    "g=Graph().parse(data=okString,format='json-ld')\n",
    "list(g)"
   ]
  },
  {
   "cell_type": "markdown",
   "metadata": {},
   "source": [
    "## IRI Parsing"
   ]
  },
  {
   "cell_type": "code",
   "execution_count": null,
   "metadata": {},
   "outputs": [],
   "source": []
  }
 ],
 "metadata": {
  "kernelspec": {
   "display_name": "Python 3",
   "language": "python",
   "name": "python3"
  },
  "language_info": {
   "codemirror_mode": {
    "name": "ipython",
    "version": 3
   },
   "file_extension": ".py",
   "mimetype": "text/x-python",
   "name": "python",
   "nbconvert_exporter": "python",
   "pygments_lexer": "ipython3",
   "version": "3.6.9"
  }
 },
 "nbformat": 4,
 "nbformat_minor": 4
}
